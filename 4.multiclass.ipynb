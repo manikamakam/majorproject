{
 "cells": [
  {
   "cell_type": "code",
   "execution_count": 1,
   "metadata": {},
   "outputs": [
    {
     "name": "stderr",
     "output_type": "stream",
     "text": [
      "Using TensorFlow backend.\n"
     ]
    }
   ],
   "source": [
    "import numpy as np\n",
    "import keras\n",
    "from sklearn import datasets\n",
    "import matplotlib.pyplot as plt\n",
    "from keras.models import Sequential\n",
    "from keras.layers import Dense\n",
    "from keras.optimizers import Adam\n",
    "from keras.utils.np_utils import to_categorical"
   ]
  },
  {
   "cell_type": "code",
   "execution_count": 2,
   "metadata": {},
   "outputs": [
    {
     "data": {
      "text/plain": [
       "<matplotlib.collections.PathCollection at 0x1b5749b6630>"
      ]
     },
     "execution_count": 2,
     "metadata": {},
     "output_type": "execute_result"
    },
    {
     "data": {
      "image/png": "[encoded data removed]",
      "text/plain": [
       "<Figure size 432x288 with 1 Axes>"
      ]
     },
     "metadata": {
      "needs_background": "light"
     },
     "output_type": "display_data"
    }
   ],
   "source": [
    "n_pts = 500\n",
    "centers = [[-1, 1], [-1, -1], [1, -1], [1, 1], [0, 0]]\n",
    "X, y = datasets.make_blobs(n_samples=n_pts, random_state = 123, centers=centers, cluster_std=0.4)\n",
    " \n",
    "plt.scatter(X[y==0, 0], X[y==0, 1])\n",
    "plt.scatter(X[y==1, 0], X[y==1, 1])\n",
    "plt.scatter(X[y==2, 0], X[y==2, 1])\n",
    "plt.scatter(X[y==3, 0], X[y==3, 1])\n",
    "plt.scatter(X[y==4, 0], X[y==4, 1])"
   ]
  },
  {
   "cell_type": "code",
   "execution_count": 3,
   "metadata": {},
   "outputs": [
    {
     "name": "stdout",
     "output_type": "stream",
     "text": [
      "WARNING:tensorflow:From C:\\Users\\Public\\Anaconda3\\lib\\site-packages\\tensorflow\\python\\framework\\op_def_library.py:263: colocate_with (from tensorflow.python.framework.ops) is deprecated and will be removed in a future version.\n",
      "Instructions for updating:\n",
      "Colocations handled automatically by placer.\n",
      "WARNING:tensorflow:From C:\\Users\\Public\\Anaconda3\\lib\\site-packages\\tensorflow\\python\\ops\\math_ops.py:3066: to_int32 (from tensorflow.python.ops.math_ops) is deprecated and will be removed in a future version.\n",
      "Instructions for updating:\n",
      "Use tf.cast instead.\n",
      "Epoch 1/100\n",
      "500/500 [==============================] - 0s 468us/step - loss: 1.3511 - acc: 0.3780\n",
      "Epoch 2/100\n",
      "500/500 [==============================] - 0s 28us/step - loss: 0.6617 - acc: 0.8680\n",
      "Epoch 3/100\n",
      "500/500 [==============================] - 0s 38us/step - loss: 0.4335 - acc: 0.9260\n",
      "Epoch 4/100\n",
      "500/500 [==============================] - 0s 38us/step - loss: 0.3356 - acc: 0.9400\n",
      "Epoch 5/100\n",
      "500/500 [==============================] - 0s 36us/step - loss: 0.2931 - acc: 0.9440\n",
      "Epoch 6/100\n",
      "500/500 [==============================] - 0s 38us/step - loss: 0.2645 - acc: 0.9400\n",
      "Epoch 7/100\n",
      "500/500 [==============================] - 0s 40us/step - loss: 0.2469 - acc: 0.9420\n",
      "Epoch 8/100\n",
      "500/500 [==============================] - 0s 38us/step - loss: 0.2349 - acc: 0.9460\n",
      "Epoch 9/100\n",
      "500/500 [==============================] - 0s 36us/step - loss: 0.2253 - acc: 0.9420\n",
      "Epoch 10/100\n",
      "500/500 [==============================] - 0s 36us/step - loss: 0.2169 - acc: 0.9460\n",
      "Epoch 11/100\n",
      "500/500 [==============================] - 0s 40us/step - loss: 0.2097 - acc: 0.9480\n",
      "Epoch 12/100\n",
      "500/500 [==============================] - 0s 42us/step - loss: 0.2029 - acc: 0.9480\n",
      "Epoch 13/100\n",
      "500/500 [==============================] - 0s 40us/step - loss: 0.1981 - acc: 0.9460\n",
      "Epoch 14/100\n",
      "500/500 [==============================] - 0s 40us/step - loss: 0.1938 - acc: 0.9460\n",
      "Epoch 15/100\n",
      "500/500 [==============================] - 0s 42us/step - loss: 0.1899 - acc: 0.9500\n",
      "Epoch 16/100\n",
      "500/500 [==============================] - 0s 36us/step - loss: 0.1868 - acc: 0.9540\n",
      "Epoch 17/100\n",
      "500/500 [==============================] - 0s 36us/step - loss: 0.1841 - acc: 0.9500\n",
      "Epoch 18/100\n",
      "500/500 [==============================] - 0s 38us/step - loss: 0.1815 - acc: 0.9500\n",
      "Epoch 19/100\n",
      "500/500 [==============================] - 0s 36us/step - loss: 0.1795 - acc: 0.9440\n",
      "Epoch 20/100\n",
      "500/500 [==============================] - 0s 34us/step - loss: 0.1762 - acc: 0.9540\n",
      "Epoch 21/100\n",
      "500/500 [==============================] - 0s 34us/step - loss: 0.1747 - acc: 0.9520\n",
      "Epoch 22/100\n",
      "500/500 [==============================] - 0s 50us/step - loss: 0.1729 - acc: 0.9520\n",
      "Epoch 23/100\n",
      "500/500 [==============================] - 0s 32us/step - loss: 0.1714 - acc: 0.9480\n",
      "Epoch 24/100\n",
      "500/500 [==============================] - 0s 32us/step - loss: 0.1693 - acc: 0.9540\n",
      "Epoch 25/100\n",
      "500/500 [==============================] - 0s 38us/step - loss: 0.1682 - acc: 0.9520\n",
      "Epoch 26/100\n",
      "500/500 [==============================] - 0s 36us/step - loss: 0.1674 - acc: 0.9480\n",
      "Epoch 27/100\n",
      "500/500 [==============================] - 0s 34us/step - loss: 0.1661 - acc: 0.9480\n",
      "Epoch 28/100\n",
      "500/500 [==============================] - 0s 38us/step - loss: 0.1646 - acc: 0.9500\n",
      "Epoch 29/100\n",
      "500/500 [==============================] - 0s 34us/step - loss: 0.1650 - acc: 0.9500\n",
      "Epoch 30/100\n",
      "500/500 [==============================] - 0s 30us/step - loss: 0.1634 - acc: 0.9520\n",
      "Epoch 31/100\n",
      "500/500 [==============================] - 0s 34us/step - loss: 0.1633 - acc: 0.9460\n",
      "Epoch 32/100\n",
      "500/500 [==============================] - 0s 40us/step - loss: 0.1622 - acc: 0.9520\n",
      "Epoch 33/100\n",
      "500/500 [==============================] - 0s 36us/step - loss: 0.1609 - acc: 0.9540\n",
      "Epoch 34/100\n",
      "500/500 [==============================] - 0s 40us/step - loss: 0.1614 - acc: 0.9500\n",
      "Epoch 35/100\n",
      "500/500 [==============================] - 0s 30us/step - loss: 0.1601 - acc: 0.9480\n",
      "Epoch 36/100\n",
      "500/500 [==============================] - 0s 56us/step - loss: 0.1592 - acc: 0.9520\n",
      "Epoch 37/100\n",
      "500/500 [==============================] - 0s 38us/step - loss: 0.1585 - acc: 0.9540\n",
      "Epoch 38/100\n",
      "500/500 [==============================] - 0s 34us/step - loss: 0.1584 - acc: 0.9520\n",
      "Epoch 39/100\n",
      "500/500 [==============================] - 0s 36us/step - loss: 0.1589 - acc: 0.9480\n",
      "Epoch 40/100\n",
      "500/500 [==============================] - 0s 36us/step - loss: 0.1609 - acc: 0.9460\n",
      "Epoch 41/100\n",
      "500/500 [==============================] - 0s 34us/step - loss: 0.1570 - acc: 0.9480\n",
      "Epoch 42/100\n",
      "500/500 [==============================] - 0s 38us/step - loss: 0.1565 - acc: 0.9520\n",
      "Epoch 43/100\n",
      "500/500 [==============================] - 0s 28us/step - loss: 0.1564 - acc: 0.9500\n",
      "Epoch 44/100\n",
      "500/500 [==============================] - 0s 36us/step - loss: 0.1564 - acc: 0.9480\n",
      "Epoch 45/100\n",
      "500/500 [==============================] - 0s 30us/step - loss: 0.1554 - acc: 0.9520\n",
      "Epoch 46/100\n",
      "500/500 [==============================] - 0s 32us/step - loss: 0.1560 - acc: 0.9520\n",
      "Epoch 47/100\n",
      "500/500 [==============================] - 0s 44us/step - loss: 0.1547 - acc: 0.9500\n",
      "Epoch 48/100\n",
      "500/500 [==============================] - 0s 36us/step - loss: 0.1561 - acc: 0.9500\n",
      "Epoch 49/100\n",
      "500/500 [==============================] - 0s 34us/step - loss: 0.1542 - acc: 0.9520\n",
      "Epoch 50/100\n",
      "500/500 [==============================] - 0s 36us/step - loss: 0.1549 - acc: 0.9460\n",
      "Epoch 51/100\n",
      "500/500 [==============================] - 0s 40us/step - loss: 0.1555 - acc: 0.9520\n",
      "Epoch 52/100\n",
      "500/500 [==============================] - 0s 30us/step - loss: 0.1536 - acc: 0.9520\n",
      "Epoch 53/100\n",
      "500/500 [==============================] - 0s 36us/step - loss: 0.1544 - acc: 0.9520\n",
      "Epoch 54/100\n",
      "500/500 [==============================] - 0s 34us/step - loss: 0.1536 - acc: 0.9480\n",
      "Epoch 55/100\n",
      "500/500 [==============================] - 0s 34us/step - loss: 0.1541 - acc: 0.9520\n",
      "Epoch 56/100\n",
      "500/500 [==============================] - 0s 38us/step - loss: 0.1550 - acc: 0.9480\n",
      "Epoch 57/100\n",
      "500/500 [==============================] - 0s 30us/step - loss: 0.1547 - acc: 0.9520\n",
      "Epoch 58/100\n",
      "500/500 [==============================] - 0s 34us/step - loss: 0.1553 - acc: 0.9520\n",
      "Epoch 59/100\n",
      "500/500 [==============================] - 0s 30us/step - loss: 0.1545 - acc: 0.9480\n",
      "Epoch 60/100\n",
      "500/500 [==============================] - 0s 32us/step - loss: 0.1538 - acc: 0.9480\n",
      "Epoch 61/100\n",
      "500/500 [==============================] - 0s 34us/step - loss: 0.1539 - acc: 0.9540\n",
      "Epoch 62/100\n",
      "500/500 [==============================] - 0s 32us/step - loss: 0.1542 - acc: 0.9520\n",
      "Epoch 63/100\n",
      "500/500 [==============================] - 0s 38us/step - loss: 0.1531 - acc: 0.9500\n",
      "Epoch 64/100\n",
      "500/500 [==============================] - 0s 30us/step - loss: 0.1534 - acc: 0.9520\n",
      "Epoch 65/100\n",
      "500/500 [==============================] - 0s 36us/step - loss: 0.1548 - acc: 0.9520\n",
      "Epoch 66/100\n",
      "500/500 [==============================] - 0s 32us/step - loss: 0.1530 - acc: 0.9520\n",
      "Epoch 67/100\n",
      "500/500 [==============================] - 0s 50us/step - loss: 0.1536 - acc: 0.9500\n",
      "Epoch 68/100\n",
      "500/500 [==============================] - 0s 38us/step - loss: 0.1532 - acc: 0.9460\n",
      "Epoch 69/100\n",
      "500/500 [==============================] - 0s 32us/step - loss: 0.1526 - acc: 0.9480\n",
      "Epoch 70/100\n",
      "500/500 [==============================] - 0s 36us/step - loss: 0.1533 - acc: 0.9500\n",
      "Epoch 71/100\n",
      "500/500 [==============================] - 0s 30us/step - loss: 0.1517 - acc: 0.9520\n",
      "Epoch 72/100\n",
      "500/500 [==============================] - 0s 36us/step - loss: 0.1518 - acc: 0.9520\n",
      "Epoch 73/100\n",
      "500/500 [==============================] - 0s 28us/step - loss: 0.1532 - acc: 0.9500\n",
      "Epoch 74/100\n",
      "500/500 [==============================] - 0s 34us/step - loss: 0.1522 - acc: 0.9480\n",
      "Epoch 75/100\n",
      "500/500 [==============================] - 0s 28us/step - loss: 0.1521 - acc: 0.9460\n",
      "Epoch 76/100\n",
      "500/500 [==============================] - 0s 32us/step - loss: 0.1520 - acc: 0.9500\n",
      "Epoch 77/100\n",
      "500/500 [==============================] - 0s 32us/step - loss: 0.1515 - acc: 0.9520\n",
      "Epoch 78/100\n",
      "500/500 [==============================] - 0s 32us/step - loss: 0.1524 - acc: 0.9480\n",
      "Epoch 79/100\n",
      "500/500 [==============================] - 0s 30us/step - loss: 0.1515 - acc: 0.9500\n",
      "Epoch 80/100\n",
      "500/500 [==============================] - 0s 28us/step - loss: 0.1519 - acc: 0.9500\n",
      "Epoch 81/100\n",
      "500/500 [==============================] - 0s 34us/step - loss: 0.1519 - acc: 0.9500\n",
      "Epoch 82/100\n",
      "500/500 [==============================] - 0s 30us/step - loss: 0.1524 - acc: 0.9480\n",
      "Epoch 83/100\n",
      "500/500 [==============================] - 0s 34us/step - loss: 0.1533 - acc: 0.9500\n",
      "Epoch 84/100\n",
      "500/500 [==============================] - 0s 24us/step - loss: 0.1536 - acc: 0.9500\n",
      "Epoch 85/100\n",
      "500/500 [==============================] - 0s 34us/step - loss: 0.1525 - acc: 0.9480\n",
      "Epoch 86/100\n",
      "500/500 [==============================] - 0s 26us/step - loss: 0.1515 - acc: 0.9480\n",
      "Epoch 87/100\n",
      "500/500 [==============================] - 0s 38us/step - loss: 0.1510 - acc: 0.9540\n",
      "Epoch 88/100\n",
      "500/500 [==============================] - 0s 30us/step - loss: 0.1508 - acc: 0.9520\n",
      "Epoch 89/100\n",
      "500/500 [==============================] - 0s 40us/step - loss: 0.1516 - acc: 0.9500\n",
      "Epoch 90/100\n",
      "500/500 [==============================] - 0s 26us/step - loss: 0.1519 - acc: 0.9480\n",
      "Epoch 91/100\n",
      "500/500 [==============================] - 0s 38us/step - loss: 0.1519 - acc: 0.9480\n",
      "Epoch 92/100\n",
      "500/500 [==============================] - 0s 28us/step - loss: 0.1508 - acc: 0.9520\n",
      "Epoch 93/100\n",
      "500/500 [==============================] - 0s 26us/step - loss: 0.1525 - acc: 0.9500\n",
      "Epoch 94/100\n",
      "500/500 [==============================] - 0s 36us/step - loss: 0.1530 - acc: 0.9500\n",
      "Epoch 95/100\n",
      "500/500 [==============================] - 0s 26us/step - loss: 0.1532 - acc: 0.9520\n",
      "Epoch 96/100\n",
      "500/500 [==============================] - 0s 30us/step - loss: 0.1524 - acc: 0.9460\n",
      "Epoch 97/100\n",
      "500/500 [==============================] - 0s 32us/step - loss: 0.1526 - acc: 0.9480\n",
      "Epoch 98/100\n",
      "500/500 [==============================] - 0s 28us/step - loss: 0.1510 - acc: 0.9520\n",
      "Epoch 99/100\n",
      "500/500 [==============================] - 0s 30us/step - loss: 0.1514 - acc: 0.9520\n",
      "Epoch 100/100\n",
      "500/500 [==============================] - 0s 36us/step - loss: 0.1548 - acc: 0.9500\n"
     ]
    }
   ],
   "source": [
    "y_cat = to_categorical(y, 5)\n",
    "model = Sequential()\n",
    "model.add(Dense(5, input_shape=(2,), activation='softmax'))\n",
    "model.compile(Adam(lr=0.1), 'categorical_crossentropy', metrics=['accuracy'])\n",
    "history = model.fit(X, y_cat, verbose=1, batch_size = 50, epochs=100)"
   ]
  },
  {
   "cell_type": "code",
   "execution_count": 4,
   "metadata": {},
   "outputs": [],
   "source": [
    "def plot_multiclass_decision_boundary(X, y, model):\n",
    "    x_span = np.linspace(min(X[:,0]) - 1, max(X[:,0]) + 1)\n",
    "    y_span = np.linspace(min(X[:,1]) - 1, max(X[:,1]) + 1)\n",
    "    xx, yy = np.meshgrid(x_span, y_span)\n",
    "    grid = np.c_[xx.ravel(), yy.ravel()]\n",
    "    pred_func = model.predict_classes(grid)\n",
    "    z = pred_func.reshape(xx.shape)\n",
    "    plt.contourf(xx, yy, z)"
   ]
  },
  {
   "cell_type": "code",
   "execution_count": 5,
   "metadata": {},
   "outputs": [
    {
     "name": "stdout",
     "output_type": "stream",
     "text": [
      "Prediction is:  [4]\n"
     ]
    },
    {
     "data": {
      "image/png": "[encoded data removed]",
      "text/plain": [
       "<Figure size 432x288 with 1 Axes>"
      ]
     },
     "metadata": {
      "needs_background": "light"
     },
     "output_type": "display_data"
    }
   ],
   "source": [
    "plot_multiclass_decision_boundary(X, y_cat, model)\n",
    "plt.scatter(X[y==0, 0], X[y==0, 1])\n",
    "plt.scatter(X[y==1, 0], X[y==1, 1])\n",
    "plt.scatter(X[y==2, 0], X[y==2, 1])\n",
    "plt.scatter(X[y==3, 0], X[y==3, 1])\n",
    "plt.scatter(X[y==4, 0], X[y==4, 1])\n",
    " \n",
    "x = 0\n",
    "y = 0\n",
    "point = np.array([[x, y]])\n",
    "prediction = model.predict_classes(point)\n",
    "plt.plot([x], [y], marker='o', markersize=10, color=\"yellow\")\n",
    "print(\"Prediction is: \", prediction)"
   ]
  },
  {
   "cell_type": "code",
   "execution_count": null,
   "metadata": {},
   "outputs": [],
   "source": []
  },
  {
   "cell_type": "code",
   "execution_count": null,
   "metadata": {},
   "outputs": [],
   "source": []
  }
 ],
 "metadata": {
  "kernelspec": {
   "display_name": "Python 3",
   "language": "python",
   "name": "python3"
  },
  "language_info": {
   "codemirror_mode": {
    "name": "ipython",
    "version": 3
   },
   "file_extension": ".py",
   "mimetype": "text/x-python",
   "name": "python",
   "nbconvert_exporter": "python",
   "pygments_lexer": "ipython3",
   "version": "3.7.1"
  }
 },
 "nbformat": 4,
 "nbformat_minor": 2
}
