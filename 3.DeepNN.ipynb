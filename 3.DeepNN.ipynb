{
 "cells": [
  {
   "cell_type": "code",
   "execution_count": 1,
   "metadata": {},
   "outputs": [
    {
     "name": "stderr",
     "output_type": "stream",
     "text": [
      "Using TensorFlow backend.\n"
     ]
    },
    {
     "data": {
      "text/plain": [
       "<matplotlib.collections.PathCollection at 0x21a60bd54e0>"
      ]
     },
     "execution_count": 1,
     "metadata": {},
     "output_type": "execute_result"
    }
   ],
   "source": [
    "import numpy as np\n",
    "import matplotlib.pyplot as plt\n",
    "from sklearn import datasets\n",
    "import keras\n",
    "from keras.models import Sequential\n",
    "from keras.layers import Dense\n",
    "from keras.optimizers import Adam\n",
    "np.random.seed(0)\n",
    "n_pts = 500\n",
    "X, y = datasets.make_circles(n_samples=n_pts, random_state = 123, noise=0.1, factor=0.2)\n",
    " \n",
    "plt.scatter(X[y==0, 0], X[y==0, 1])\n",
    "plt.scatter(X[y==1, 0], X[y==1, 1])"
   ]
  },
  {
   "cell_type": "code",
   "execution_count": 2,
   "metadata": {},
   "outputs": [
    {
     "name": "stdout",
     "output_type": "stream",
     "text": [
      "WARNING:tensorflow:From C:\\Users\\Public\\Anaconda3\\lib\\site-packages\\tensorflow\\python\\framework\\op_def_library.py:263: colocate_with (from tensorflow.python.framework.ops) is deprecated and will be removed in a future version.\n",
      "Instructions for updating:\n",
      "Colocations handled automatically by placer.\n",
      "WARNING:tensorflow:From C:\\Users\\Public\\Anaconda3\\lib\\site-packages\\tensorflow\\python\\ops\\math_ops.py:3066: to_int32 (from tensorflow.python.ops.math_ops) is deprecated and will be removed in a future version.\n",
      "Instructions for updating:\n",
      "Use tf.cast instead.\n",
      "Epoch 1/100\n",
      "500/500 [==============================] - 1s 1ms/step - loss: 0.7045 - acc: 0.4840\n",
      "Epoch 2/100\n",
      "500/500 [==============================] - 0s 30us/step - loss: 0.6931 - acc: 0.3700\n",
      "Epoch 3/100\n",
      "500/500 [==============================] - 0s 34us/step - loss: 0.6923 - acc: 0.6080\n",
      "Epoch 4/100\n",
      "500/500 [==============================] - 0s 38us/step - loss: 0.6930 - acc: 0.6800\n",
      "Epoch 5/100\n",
      "500/500 [==============================] - 0s 40us/step - loss: 0.6925 - acc: 0.6740\n",
      "Epoch 6/100\n",
      "500/500 [==============================] - 0s 48us/step - loss: 0.6919 - acc: 0.5680\n",
      "Epoch 7/100\n",
      "500/500 [==============================] - 0s 34us/step - loss: 0.6911 - acc: 0.4320\n",
      "Epoch 8/100\n",
      "500/500 [==============================] - 0s 34us/step - loss: 0.6906 - acc: 0.4720\n",
      "Epoch 9/100\n",
      "500/500 [==============================] - 0s 36us/step - loss: 0.6900 - acc: 0.5760\n",
      "Epoch 10/100\n",
      "500/500 [==============================] - 0s 42us/step - loss: 0.6891 - acc: 0.6520\n",
      "Epoch 11/100\n",
      "500/500 [==============================] - 0s 34us/step - loss: 0.6883 - acc: 0.6560\n",
      "Epoch 12/100\n",
      "500/500 [==============================] - 0s 42us/step - loss: 0.6871 - acc: 0.7040\n",
      "Epoch 13/100\n",
      "500/500 [==============================] - 0s 42us/step - loss: 0.6858 - acc: 0.6760\n",
      "Epoch 14/100\n",
      "500/500 [==============================] - 0s 48us/step - loss: 0.6844 - acc: 0.6440\n",
      "Epoch 15/100\n",
      "500/500 [==============================] - 0s 34us/step - loss: 0.6820 - acc: 0.6360\n",
      "Epoch 16/100\n",
      "500/500 [==============================] - 0s 44us/step - loss: 0.6797 - acc: 0.7240\n",
      "Epoch 17/100\n",
      "500/500 [==============================] - 0s 38us/step - loss: 0.6775 - acc: 0.6720\n",
      "Epoch 18/100\n",
      "500/500 [==============================] - 0s 34us/step - loss: 0.6734 - acc: 0.8200\n",
      "Epoch 19/100\n",
      "500/500 [==============================] - 0s 36us/step - loss: 0.6698 - acc: 0.8360\n",
      "Epoch 20/100\n",
      "500/500 [==============================] - 0s 36us/step - loss: 0.6646 - acc: 0.8520\n",
      "Epoch 21/100\n",
      "500/500 [==============================] - 0s 36us/step - loss: 0.6593 - acc: 0.8620\n",
      "Epoch 22/100\n",
      "500/500 [==============================] - 0s 36us/step - loss: 0.6528 - acc: 0.8680\n",
      "Epoch 23/100\n",
      "500/500 [==============================] - 0s 30us/step - loss: 0.6457 - acc: 0.8780\n",
      "Epoch 24/100\n",
      "500/500 [==============================] - 0s 34us/step - loss: 0.6380 - acc: 0.8920\n",
      "Epoch 25/100\n",
      "500/500 [==============================] - 0s 46us/step - loss: 0.6295 - acc: 0.8940\n",
      "Epoch 26/100\n",
      "500/500 [==============================] - 0s 40us/step - loss: 0.6202 - acc: 0.8960\n",
      "Epoch 27/100\n",
      "500/500 [==============================] - 0s 44us/step - loss: 0.6103 - acc: 0.8720\n",
      "Epoch 28/100\n",
      "500/500 [==============================] - 0s 50us/step - loss: 0.5996 - acc: 0.8640\n",
      "Epoch 29/100\n",
      "500/500 [==============================] - 0s 38us/step - loss: 0.5881 - acc: 0.8680\n",
      "Epoch 30/100\n",
      "500/500 [==============================] - 0s 34us/step - loss: 0.5761 - acc: 0.8680\n",
      "Epoch 31/100\n",
      "500/500 [==============================] - 0s 40us/step - loss: 0.5639 - acc: 0.8740\n",
      "Epoch 32/100\n",
      "500/500 [==============================] - 0s 56us/step - loss: 0.5516 - acc: 0.8740\n",
      "Epoch 33/100\n",
      "500/500 [==============================] - 0s 56us/step - loss: 0.5390 - acc: 0.8800\n",
      "Epoch 34/100\n",
      "500/500 [==============================] - 0s 44us/step - loss: 0.5263 - acc: 0.8800\n",
      "Epoch 35/100\n",
      "500/500 [==============================] - 0s 40us/step - loss: 0.5131 - acc: 0.8820\n",
      "Epoch 36/100\n",
      "500/500 [==============================] - 0s 34us/step - loss: 0.5001 - acc: 0.8900\n",
      "Epoch 37/100\n",
      "500/500 [==============================] - 0s 40us/step - loss: 0.4874 - acc: 0.8920\n",
      "Epoch 38/100\n",
      "500/500 [==============================] - 0s 40us/step - loss: 0.4746 - acc: 0.8920\n",
      "Epoch 39/100\n",
      "500/500 [==============================] - 0s 50us/step - loss: 0.4615 - acc: 0.8920\n",
      "Epoch 40/100\n",
      "500/500 [==============================] - 0s 40us/step - loss: 0.4488 - acc: 0.8960\n",
      "Epoch 41/100\n",
      "500/500 [==============================] - 0s 32us/step - loss: 0.4364 - acc: 0.9040\n",
      "Epoch 42/100\n",
      "500/500 [==============================] - 0s 38us/step - loss: 0.4244 - acc: 0.9020\n",
      "Epoch 43/100\n",
      "500/500 [==============================] - 0s 30us/step - loss: 0.4122 - acc: 0.9060\n",
      "Epoch 44/100\n",
      "500/500 [==============================] - 0s 40us/step - loss: 0.4007 - acc: 0.9100\n",
      "Epoch 45/100\n",
      "500/500 [==============================] - 0s 32us/step - loss: 0.3891 - acc: 0.9100\n",
      "Epoch 46/100\n",
      "500/500 [==============================] - 0s 30us/step - loss: 0.3778 - acc: 0.9120\n",
      "Epoch 47/100\n",
      "500/500 [==============================] - 0s 36us/step - loss: 0.3671 - acc: 0.9180\n",
      "Epoch 48/100\n",
      "500/500 [==============================] - 0s 46us/step - loss: 0.3565 - acc: 0.9180\n",
      "Epoch 49/100\n",
      "500/500 [==============================] - 0s 38us/step - loss: 0.3462 - acc: 0.9200\n",
      "Epoch 50/100\n",
      "500/500 [==============================] - 0s 38us/step - loss: 0.3362 - acc: 0.9240\n",
      "Epoch 51/100\n",
      "500/500 [==============================] - 0s 34us/step - loss: 0.3264 - acc: 0.9300\n",
      "Epoch 52/100\n",
      "500/500 [==============================] - 0s 38us/step - loss: 0.3169 - acc: 0.9340\n",
      "Epoch 53/100\n",
      "500/500 [==============================] - 0s 38us/step - loss: 0.3077 - acc: 0.9340\n",
      "Epoch 54/100\n",
      "500/500 [==============================] - 0s 34us/step - loss: 0.2989 - acc: 0.9420\n",
      "Epoch 55/100\n",
      "500/500 [==============================] - 0s 36us/step - loss: 0.2903 - acc: 0.9460\n",
      "Epoch 56/100\n",
      "500/500 [==============================] - 0s 48us/step - loss: 0.2821 - acc: 0.9560\n",
      "Epoch 57/100\n",
      "500/500 [==============================] - 0s 42us/step - loss: 0.2740 - acc: 0.9620\n",
      "Epoch 58/100\n",
      "500/500 [==============================] - 0s 28us/step - loss: 0.2664 - acc: 0.9740\n",
      "Epoch 59/100\n",
      "500/500 [==============================] - 0s 38us/step - loss: 0.2587 - acc: 0.9800\n",
      "Epoch 60/100\n",
      "500/500 [==============================] - 0s 36us/step - loss: 0.2515 - acc: 0.9860\n",
      "Epoch 61/100\n",
      "500/500 [==============================] - 0s 32us/step - loss: 0.2446 - acc: 0.9860\n",
      "Epoch 62/100\n",
      "500/500 [==============================] - 0s 44us/step - loss: 0.2378 - acc: 0.9880\n",
      "Epoch 63/100\n",
      "500/500 [==============================] - 0s 56us/step - loss: 0.2312 - acc: 0.9900\n",
      "Epoch 64/100\n",
      "500/500 [==============================] - 0s 42us/step - loss: 0.2248 - acc: 0.9940\n",
      "Epoch 65/100\n",
      "500/500 [==============================] - 0s 32us/step - loss: 0.2189 - acc: 0.9940\n",
      "Epoch 66/100\n",
      "500/500 [==============================] - 0s 28us/step - loss: 0.2128 - acc: 0.9940\n",
      "Epoch 67/100\n",
      "500/500 [==============================] - 0s 36us/step - loss: 0.2072 - acc: 0.9940\n",
      "Epoch 68/100\n",
      "500/500 [==============================] - 0s 32us/step - loss: 0.2015 - acc: 0.9940\n",
      "Epoch 69/100\n",
      "500/500 [==============================] - 0s 34us/step - loss: 0.1961 - acc: 0.9960\n",
      "Epoch 70/100\n",
      "500/500 [==============================] - 0s 34us/step - loss: 0.1909 - acc: 0.9960\n",
      "Epoch 71/100\n",
      "500/500 [==============================] - 0s 36us/step - loss: 0.1859 - acc: 0.9960\n",
      "Epoch 72/100\n",
      "500/500 [==============================] - 0s 34us/step - loss: 0.1809 - acc: 0.9960\n",
      "Epoch 73/100\n",
      "500/500 [==============================] - 0s 30us/step - loss: 0.1761 - acc: 0.9960\n",
      "Epoch 74/100\n",
      "500/500 [==============================] - 0s 32us/step - loss: 0.1713 - acc: 0.9960\n",
      "Epoch 75/100\n",
      "500/500 [==============================] - 0s 28us/step - loss: 0.1666 - acc: 0.9960\n",
      "Epoch 76/100\n",
      "500/500 [==============================] - 0s 36us/step - loss: 0.1620 - acc: 0.9960\n",
      "Epoch 77/100\n",
      "500/500 [==============================] - 0s 36us/step - loss: 0.1573 - acc: 0.9960\n",
      "Epoch 78/100\n",
      "500/500 [==============================] - 0s 30us/step - loss: 0.1528 - acc: 0.9960\n",
      "Epoch 79/100\n",
      "500/500 [==============================] - 0s 42us/step - loss: 0.1481 - acc: 0.9960\n",
      "Epoch 80/100\n",
      "500/500 [==============================] - 0s 42us/step - loss: 0.1434 - acc: 0.9960\n",
      "Epoch 81/100\n",
      "500/500 [==============================] - 0s 32us/step - loss: 0.1389 - acc: 0.9960\n",
      "Epoch 82/100\n",
      "500/500 [==============================] - 0s 36us/step - loss: 0.1343 - acc: 0.9960\n",
      "Epoch 83/100\n",
      "500/500 [==============================] - 0s 34us/step - loss: 0.1299 - acc: 0.9960\n",
      "Epoch 84/100\n",
      "500/500 [==============================] - 0s 44us/step - loss: 0.1257 - acc: 0.9960\n",
      "Epoch 85/100\n",
      "500/500 [==============================] - 0s 38us/step - loss: 0.1215 - acc: 0.9960\n",
      "Epoch 86/100\n",
      "500/500 [==============================] - 0s 40us/step - loss: 0.1176 - acc: 0.9960\n",
      "Epoch 87/100\n",
      "500/500 [==============================] - 0s 32us/step - loss: 0.1139 - acc: 0.9980\n",
      "Epoch 88/100\n",
      "500/500 [==============================] - 0s 40us/step - loss: 0.1103 - acc: 0.9980\n",
      "Epoch 89/100\n",
      "500/500 [==============================] - 0s 30us/step - loss: 0.1068 - acc: 0.9980\n",
      "Epoch 90/100\n",
      "500/500 [==============================] - 0s 40us/step - loss: 0.1036 - acc: 0.9980\n",
      "Epoch 91/100\n",
      "500/500 [==============================] - 0s 36us/step - loss: 0.1006 - acc: 0.9980\n",
      "Epoch 92/100\n",
      "500/500 [==============================] - 0s 38us/step - loss: 0.0977 - acc: 0.9980\n",
      "Epoch 93/100\n",
      "500/500 [==============================] - 0s 48us/step - loss: 0.0949 - acc: 0.9980\n",
      "Epoch 94/100\n",
      "500/500 [==============================] - 0s 52us/step - loss: 0.0923 - acc: 0.9980\n",
      "Epoch 95/100\n",
      "500/500 [==============================] - 0s 50us/step - loss: 0.0897 - acc: 0.9980\n",
      "Epoch 96/100\n",
      "500/500 [==============================] - 0s 42us/step - loss: 0.0874 - acc: 0.9980\n",
      "Epoch 97/100\n",
      "500/500 [==============================] - 0s 36us/step - loss: 0.0852 - acc: 0.9980\n",
      "Epoch 98/100\n",
      "500/500 [==============================] - 0s 48us/step - loss: 0.0829 - acc: 0.9980\n",
      "Epoch 99/100\n",
      "500/500 [==============================] - 0s 34us/step - loss: 0.0809 - acc: 0.9980\n",
      "Epoch 100/100\n",
      "500/500 [==============================] - 0s 40us/step - loss: 0.0789 - acc: 0.9980\n"
     ]
    }
   ],
   "source": [
    "model = Sequential()\n",
    "model.add(Dense(4, input_shape=(2,), activation='sigmoid'))\n",
    "model.add(Dense(1, activation='sigmoid'))\n",
    "model.compile(Adam(lr = 0.01), 'binary_crossentropy', metrics=['accuracy'])\n",
    "h=model.fit(x=X, y=y, verbose=1, batch_size=50,epochs=100, shuffle='true')"
   ]
  },
  {
   "cell_type": "code",
   "execution_count": 3,
   "metadata": {},
   "outputs": [
    {
     "data": {
      "text/plain": [
       "Text(0.5, 0, 'epoch')"
      ]
     },
     "execution_count": 3,
     "metadata": {},
     "output_type": "execute_result"
    },
    {
     "data": {
      "image/png": "[encoded data removed]",
      "text/plain": [
       "<Figure size 432x288 with 1 Axes>"
      ]
     },
     "metadata": {
      "needs_background": "light"
     },
     "output_type": "display_data"
    }
   ],
   "source": [
    "plt.plot(h.history['acc'])\n",
    "plt.legend(['accuracy'])\n",
    "plt.ylabel('accuracy')\n",
    "plt.xlabel('epoch')\n",
    " \n",
    "plt.plot(h.history['loss'])\n",
    "plt.legend(['loss'])\n",
    "plt.title('loss')\n",
    "plt.xlabel('epoch')"
   ]
  },
  {
   "cell_type": "code",
   "execution_count": 4,
   "metadata": {},
   "outputs": [],
   "source": [
    "def plot_decision_boundary(X, y, model):\n",
    "    x_span = np.linspace(min(X[:,0]) - 0.25, max(X[:,0]) + 0.25)\n",
    "    y_span = np.linspace(min(X[:,1]) - 0.25, max(X[:,1]) + 0.25)\n",
    "    xx, yy = np.meshgrid(x_span, y_span)\n",
    "    grid = np.c_[xx.ravel(), yy.ravel()]\n",
    "    pred_func = model.predict(grid)\n",
    "    z = pred_func.reshape(xx.shape)\n",
    "    plt.contourf(xx, yy, z)"
   ]
  },
  {
   "cell_type": "code",
   "execution_count": 5,
   "metadata": {},
   "outputs": [
    {
     "name": "stdout",
     "output_type": "stream",
     "text": [
      "Prediction is:  [[0.9587142]]\n"
     ]
    },
    {
     "data": {
      "image/png": "[encoded data removed]",
      "text/plain": [
       "<Figure size 432x288 with 1 Axes>"
      ]
     },
     "metadata": {
      "needs_background": "light"
     },
     "output_type": "display_data"
    }
   ],
   "source": [
    "plot_decision_boundary(X, y, model)\n",
    "plt.scatter(X[y==0, 0], X[y==0, 1])\n",
    "plt.scatter(X[y==1, 0], X[y==1, 1])\n",
    " \n",
    "x = 0\n",
    "y = 0\n",
    "point = np.array([[x, y]])\n",
    "predict = model.predict(point)\n",
    "plt.plot([x], [y], marker='o', markersize=10, color=\"red\")\n",
    "print(\"Prediction is: \", predict)"
   ]
  },
  {
   "cell_type": "code",
   "execution_count": null,
   "metadata": {},
   "outputs": [],
   "source": []
  },
  {
   "cell_type": "code",
   "execution_count": null,
   "metadata": {},
   "outputs": [],
   "source": []
  }
 ],
 "metadata": {
  "kernelspec": {
   "display_name": "Python 3",
   "language": "python",
   "name": "python3"
  },
  "language_info": {
   "codemirror_mode": {
    "name": "ipython",
    "version": 3
   },
   "file_extension": ".py",
   "mimetype": "text/x-python",
   "name": "python",
   "nbconvert_exporter": "python",
   "pygments_lexer": "ipython3",
   "version": "3.7.1"
  }
 },
 "nbformat": 4,
 "nbformat_minor": 2
}
